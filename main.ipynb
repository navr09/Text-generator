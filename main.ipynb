{
 "cells": [
  {
   "cell_type": "code",
   "execution_count": 76,
   "id": "b71743ae",
   "metadata": {},
   "outputs": [],
   "source": [
    "from tensorflow import keras\n",
    "# keras module for building LSTM \n",
    "from keras.preprocessing.sequence import pad_sequences\n",
    "from keras.layers import Embedding, LSTM, Dense, Dropout\n",
    "from keras.preprocessing.text import Tokenizer\n",
    "from keras.callbacks import EarlyStopping\n",
    "from keras.models import Sequential\n",
    "import keras.utils as ku \n",
    "\n",
    "\n",
    "import pandas as pd\n",
    "import numpy as np\n",
    "import string, os \n",
    "\n",
    "import warnings\n",
    "warnings.filterwarnings(\"ignore\")\n",
    "warnings.simplefilter(action='ignore', category=FutureWarning)\n"
   ]
  },
  {
   "cell_type": "code",
   "execution_count": 77,
   "id": "3de4d8c2",
   "metadata": {},
   "outputs": [],
   "source": [
    "import tensorflow as tf\n",
    "gpus = tf.config.experimental.list_physical_devices('GPU')\n",
    "if gpus:\n",
    "    try:\n",
    "        for gpu in gpus:\n",
    "            tf.config.experimental.set_memory_growth(gpu, True)\n",
    "            print(\"GPU Enabled\")\n",
    "    except RuntimeError as e:\n",
    "        print(e)"
   ]
  },
  {
   "cell_type": "code",
   "execution_count": 79,
   "id": "f5b4496a",
   "metadata": {},
   "outputs": [
    {
     "data": {
      "text/plain": [
       "['the main objective of to predict bankruptcy based on financial data bases utilizing prefinancial knowledge and experience of financial experts',\n",
       " 'to discover new laws of physics',\n",
       " 'a new system that is able to automatically decipher a lost language without needing advanced knowledge of its relation to other languages',\n",
       " 'perform an unlicensed experimental test of selfdriving vehicles ',\n",
       " 'autonomous trucks',\n",
       " 'developing a biocompatible implantable ai platform that classifies in real time healthy and pathological patterns in biological signals such as heartbeats ',\n",
       " 'research was done to reveal sleep quality using machine learning models without the need for questionnaires surveys emails etc',\n",
       " 'to detect all instances of a category in an image and for each instance mark the pixels that belong to it this is called simultaneous detection and segmentation sds datainput data is a random image with several instances that can be distinguished and resolved into separate individual instancesmethodsthe sds algorithm  has the following steps 1 proposal generation categoryindependent bottomup object proposals as producing segmentations is interesting than just bounding boxes as suggested by the owners and they need region proposals  mcg 1 is used to generate 2000 region candidates per image each region is considered candidate as a putative object hypothesis2 feature extraction they used a convolutional neural network to extract features on each region exctracted features from both the bounding box of the region as well as from the region foreground theyauthors find that compared to using the same cnn for both inputs image windows and region masks using separate networks where each network is finetuned for its respective role dramatically improves performance                        performance is further improved by training both networks jointly resulting in a feature extractor that is trained endtoend for the sds task 3 region classification they trained an svmsupport vector machine on top of the cnn features to assign a score for each category to each candidate4 region refinement nonmaximum suppression nmsis performed on the scored candidates then used the features from the cnn to produce category specific coarse mask predictions to refine the surviving candidates combining this mask with the original region candidates provides a further boostresultsthis method can handle uncommon pose and clutter and is able to resolve individual instances of an imagecommentsthe performance of the sds depends on the pixel quality of the image and may produce deficient results in such cases of low quality images or images which does not meet the necessary requirements',\n",
       " 'to improve anomaly detection in ubers machine learning models',\n",
       " 'they use machine reading to stay updated on what is happening with their clients prospects and helps clients craft personalized messages that reflect each prospects individual context']"
      ]
     },
     "execution_count": 79,
     "metadata": {},
     "output_type": "execute_result"
    }
   ],
   "source": [
    "import re\n",
    "curr_dir = 'data'\n",
    "all_goals = []\n",
    "for filename in os.listdir(curr_dir):\n",
    "    try:\n",
    "        objFile = open(os.path.join(curr_dir,filename), \"r\")\n",
    "        fileContent = objFile.read()\n",
    "        start = fileContent.find(\"GOAL\") + len(\"GOAL\")\n",
    "        end = fileContent.find(\"== DATA\") or fileContent.find(\"==== DATA\")\n",
    "        substring = fileContent[start:end]\n",
    "        all_goals.append((substring.replace('\\n','').strip('==')))\n",
    "    except:\n",
    "        pass\n",
    "def clean_text(txt):\n",
    "    txt = \"\".join(v for v in txt if v not in string.punctuation).lower()\n",
    "    txt = txt.encode(\"utf8\").decode(\"ascii\",'ignore')\n",
    "    return txt \n",
    "\n",
    "corpus = [clean_text(x) for x in all_goals]\n",
    "corpus[:10]"
   ]
  },
  {
   "cell_type": "code",
   "execution_count": 80,
   "id": "a111a84b",
   "metadata": {},
   "outputs": [
    {
     "data": {
      "text/plain": [
       "[[2, 196],\n",
       " [2, 196, 566],\n",
       " [2, 196, 566, 3],\n",
       " [2, 196, 566, 3, 1],\n",
       " [2, 196, 566, 3, 1, 23],\n",
       " [2, 196, 566, 3, 1, 23, 1458],\n",
       " [2, 196, 566, 3, 1, 23, 1458, 46],\n",
       " [2, 196, 566, 3, 1, 23, 1458, 46, 14],\n",
       " [2, 196, 566, 3, 1, 23, 1458, 46, 14, 333],\n",
       " [2, 196, 566, 3, 1, 23, 1458, 46, 14, 333, 15]]"
      ]
     },
     "execution_count": 80,
     "metadata": {},
     "output_type": "execute_result"
    }
   ],
   "source": [
    "tokenizer = Tokenizer()\n",
    "\n",
    "def get_sequence_of_tokens(corpus):\n",
    "    ## tokenization\n",
    "    tokenizer.fit_on_texts(corpus)\n",
    "    total_words = len(tokenizer.word_index) + 1\n",
    "    \n",
    "    ## convert data to sequence of tokens \n",
    "    input_sequences = []\n",
    "    for line in corpus:\n",
    "        token_list = tokenizer.texts_to_sequences([line])[0]\n",
    "        for i in range(1, len(token_list)):\n",
    "            n_gram_sequence = token_list[:i+1]\n",
    "            input_sequences.append(n_gram_sequence)\n",
    "    return input_sequences, total_words\n",
    "\n",
    "inp_sequences, total_words = get_sequence_of_tokens(corpus)\n",
    "inp_sequences[:10]"
   ]
  },
  {
   "cell_type": "code",
   "execution_count": 81,
   "id": "8ab5a805",
   "metadata": {},
   "outputs": [
    {
     "name": "stdout",
     "output_type": "stream",
     "text": [
      "869\n",
      "[[   0    0    0 ...    0    2  196]\n",
      " [   0    0    0 ...    2  196  566]\n",
      " [   0    0    0 ...  196  566    3]\n",
      " ...\n",
      " [   0    0    0 ... 2225  565 1074]\n",
      " [   0    0    0 ...  565 1074   36]\n",
      " [   0    0    0 ... 1074   36  813]]\n"
     ]
    }
   ],
   "source": [
    "max_sequence_len = max([len(x) for x in inp_sequences])\n",
    "input_sequences = np.array(pad_sequences(inp_sequences, maxlen=max_sequence_len, padding='pre'))\n",
    "predictors, label = input_sequences[:,:-1],input_sequences[:,-1]\n",
    "label =  tf.keras.utils.to_categorical(label, num_classes=total_words)\n",
    "print(max_sequence_len)\n",
    "print(input_sequences)"
   ]
  },
  {
   "cell_type": "code",
   "execution_count": 82,
   "id": "331d8ca3",
   "metadata": {},
   "outputs": [
    {
     "name": "stdout",
     "output_type": "stream",
     "text": [
      "Model: \"sequential_2\"\n",
      "_________________________________________________________________\n",
      " Layer (type)                Output Shape              Param #   \n",
      "=================================================================\n",
      " embedding_2 (Embedding)     (None, 868, 10)           51090     \n",
      "                                                                 \n",
      " lstm_2 (LSTM)               (None, 100)               44400     \n",
      "                                                                 \n",
      " dropout_2 (Dropout)         (None, 100)               0         \n",
      "                                                                 \n",
      " dense_2 (Dense)             (None, 5109)              516009    \n",
      "                                                                 \n",
      "=================================================================\n",
      "Total params: 611,499\n",
      "Trainable params: 611,499\n",
      "Non-trainable params: 0\n",
      "_________________________________________________________________\n"
     ]
    }
   ],
   "source": [
    "def create_model(max_sequence_len, total_words):\n",
    "    input_len = max_sequence_len - 1\n",
    "    model = Sequential()\n",
    "    \n",
    "    # Add Input Embedding Layer\n",
    "    model.add(Embedding(total_words, 10, input_length=input_len))\n",
    "    \n",
    "    # Add Hidden Layer 1 - LSTM Layer\n",
    "    model.add(LSTM(100))\n",
    "    model.add(Dropout(0.1))\n",
    "    \n",
    "    # Add Output Layer\n",
    "    model.add(Dense(total_words, activation='softmax'))\n",
    "\n",
    "    model.compile(loss='categorical_crossentropy', optimizer='adam')\n",
    "    \n",
    "    return model\n",
    "\n",
    "model = create_model(max_sequence_len, total_words)\n",
    "model.summary()"
   ]
  },
  {
   "cell_type": "code",
   "execution_count": 83,
   "id": "06e87e7d",
   "metadata": {},
   "outputs": [
    {
     "name": "stdout",
     "output_type": "stream",
     "text": [
      "Epoch 1/100\n",
      "Epoch 2/100\n",
      "Epoch 3/100\n",
      "Epoch 4/100\n",
      "Epoch 5/100\n",
      "Epoch 6/100\n",
      "Epoch 7/100\n",
      "Epoch 8/100\n",
      "Epoch 9/100\n",
      "Epoch 10/100\n",
      "Epoch 11/100\n",
      "Epoch 12/100\n",
      "Epoch 13/100\n",
      "Epoch 14/100\n",
      "Epoch 15/100\n",
      "Epoch 16/100\n",
      "Epoch 17/100\n",
      "Epoch 18/100\n",
      "Epoch 19/100\n",
      "Epoch 20/100\n",
      "Epoch 21/100\n",
      "Epoch 22/100\n",
      "Epoch 23/100\n",
      "Epoch 24/100\n",
      "Epoch 25/100\n",
      "Epoch 26/100\n",
      "Epoch 27/100\n",
      "Epoch 28/100\n",
      "Epoch 29/100\n",
      "Epoch 30/100\n",
      "Epoch 31/100\n",
      "Epoch 32/100\n",
      "Epoch 33/100\n",
      "Epoch 34/100\n",
      "Epoch 35/100\n",
      "Epoch 36/100\n",
      "Epoch 37/100\n",
      "Epoch 38/100\n",
      "Epoch 39/100\n",
      "Epoch 40/100\n",
      "Epoch 41/100\n",
      "Epoch 42/100\n",
      "Epoch 43/100\n",
      "Epoch 44/100\n",
      "Epoch 45/100\n",
      "Epoch 46/100\n",
      "Epoch 47/100\n",
      "Epoch 48/100\n",
      "Epoch 49/100\n",
      "Epoch 50/100\n",
      "Epoch 51/100\n",
      "Epoch 52/100\n",
      "Epoch 53/100\n",
      "Epoch 54/100\n",
      "Epoch 55/100\n",
      "Epoch 56/100\n",
      "Epoch 57/100\n",
      "Epoch 58/100\n",
      "Epoch 59/100\n",
      "Epoch 60/100\n",
      "Epoch 61/100\n",
      "Epoch 62/100\n",
      "Epoch 63/100\n",
      "Epoch 64/100\n",
      "Epoch 65/100\n",
      "Epoch 66/100\n",
      "Epoch 67/100\n",
      "Epoch 68/100\n",
      "Epoch 69/100\n",
      "Epoch 70/100\n",
      "Epoch 71/100\n",
      "Epoch 72/100\n",
      "Epoch 73/100\n",
      "Epoch 74/100\n",
      "Epoch 75/100\n",
      "Epoch 76/100\n",
      "Epoch 77/100\n",
      "Epoch 78/100\n",
      "Epoch 79/100\n",
      "Epoch 80/100\n",
      "Epoch 81/100\n",
      "Epoch 82/100\n",
      "Epoch 83/100\n",
      "Epoch 84/100\n",
      "Epoch 85/100\n",
      "Epoch 86/100\n",
      "Epoch 87/100\n",
      "Epoch 88/100\n",
      "Epoch 89/100\n",
      "Epoch 90/100\n",
      "Epoch 91/100\n",
      "Epoch 92/100\n",
      "Epoch 93/100\n",
      "Epoch 94/100\n",
      "Epoch 95/100\n",
      "Epoch 96/100\n",
      "Epoch 97/100\n",
      "Epoch 98/100\n",
      "Epoch 99/100\n",
      "Epoch 100/100\n"
     ]
    },
    {
     "data": {
      "text/plain": [
       "<keras.callbacks.History at 0x1b10e6273d0>"
      ]
     },
     "execution_count": 83,
     "metadata": {},
     "output_type": "execute_result"
    }
   ],
   "source": [
    "model.fit(predictors, label, epochs=100, verbose=5)\n"
   ]
  },
  {
   "cell_type": "code",
   "execution_count": 103,
   "id": "ea34de4f",
   "metadata": {},
   "outputs": [],
   "source": [
    "# Saving the model:\n",
    "#model.save('unsupervised_model')\n",
    "\n",
    "champion_model = tf.keras.models.load_model('unsupervised_model')"
   ]
  },
  {
   "cell_type": "code",
   "execution_count": 104,
   "id": "d3c44ac9",
   "metadata": {},
   "outputs": [
    {
     "data": {
      "text/plain": [
       "'machine learning selects secret vibrations from data from earthquakestechnology can allow scientists to map large underground geological structures for example oil reserves geothermal sources etc more accurately with these vibrations on the survival state to face to face interaction teachers can be used for the robot to fit a model is an model to the most likely of the investigation they results to create a model to analyse if an model also interesting in the most results results it is able to understand the use machine learning algorithms which is able to the utilisation of the data add the experiment add a model model as a test and test the model model as the model in the amount of rainfall through the sound produced this paper used to the input port of the accuracy of the experiment acoustic produce used to the features and the experiment set add the model add the model add the model add the model module this is very dataset he can be able to test the model score model that evaluate model modules are used to optimize the use of machine learning to allow an model to help the studentit between play images of a human molecule'"
      ]
     },
     "execution_count": 104,
     "metadata": {},
     "output_type": "execute_result"
    }
   ],
   "source": [
    "def text_generator(starting_text,number_of_words,model,max_sequence_len):\n",
    "    for _ in range(number_of_words):\n",
    "        token_list = tokenizer.texts_to_sequences([starting_text])[0]\n",
    "        token_list = pad_sequences([token_list], maxlen=max_sequence_len - 1, padding='pre')\n",
    "        predict_x=model.predict(token_list, verbose=0) \n",
    "        predicted=np.argmax(predict_x,axis=1)\n",
    "        output_word = \"\"\n",
    "        for word, index in tokenizer.word_index.items():\n",
    "            if index == predicted:\n",
    "                output_word = word\n",
    "                break\n",
    "        starting_text += ' ' + output_word\n",
    "    return starting_text\n",
    "\n"
   ]
  },
  {
   "cell_type": "code",
   "execution_count": 106,
   "id": "33a22765",
   "metadata": {},
   "outputs": [
    {
     "name": "stdout",
     "output_type": "stream",
     "text": [
      "Enter the start of the text generation?\n",
      "machine learning\n"
     ]
    }
   ],
   "source": [
    "prompt = 'Enter the start of the text generation?\\n'\n",
    "i=input(prompt)"
   ]
  },
  {
   "cell_type": "code",
   "execution_count": 109,
   "id": "a8774341",
   "metadata": {},
   "outputs": [
    {
     "data": {
      "text/plain": [
       "'machine learning selects secret vibrations from data from earthquakestechnology can allow scientists to map large underground geological structures for example oil reserves geothermal sources etc more accurately with these vibrations on the survival state to face to face interaction teachers can be used for the robot to fit a model is an model to the most likely of the investigation they results to create a model to analyse if an model also interesting in the most results results it is able to understand the use machine learning algorithms which is able to the utilisation of the data add the experiment add a model model as a test and test the model model as the model in the amount of rainfall through the sound produced this paper used to the input port of the accuracy of the experiment acoustic produce used to the features and the experiment set add the model add the model add the model add the model module this is very dataset he can be able to test the model score model that evaluate model modules are used to optimize the use of machine learning to allow an model to help the studentit between play images of a human molecule'"
      ]
     },
     "execution_count": 109,
     "metadata": {},
     "output_type": "execute_result"
    }
   ],
   "source": [
    "text_generator(i,200,champion_model,max_sequence_len)"
   ]
  },
  {
   "cell_type": "code",
   "execution_count": 110,
   "id": "fc7c65ee",
   "metadata": {},
   "outputs": [
    {
     "name": "stdout",
     "output_type": "stream",
     "text": [
      "machine learning\n"
     ]
    }
   ],
   "source": []
  },
  {
   "cell_type": "code",
   "execution_count": null,
   "id": "f318e3d3",
   "metadata": {},
   "outputs": [],
   "source": []
  }
 ],
 "metadata": {
  "kernelspec": {
   "display_name": "Python 3 (ipykernel)",
   "language": "python",
   "name": "python3"
  },
  "language_info": {
   "codemirror_mode": {
    "name": "ipython",
    "version": 3
   },
   "file_extension": ".py",
   "mimetype": "text/x-python",
   "name": "python",
   "nbconvert_exporter": "python",
   "pygments_lexer": "ipython3",
   "version": "3.9.7"
  }
 },
 "nbformat": 4,
 "nbformat_minor": 5
}
